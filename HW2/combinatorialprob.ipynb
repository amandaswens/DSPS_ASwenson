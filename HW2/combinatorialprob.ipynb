{
  "nbformat": 4,
  "nbformat_minor": 0,
  "metadata": {
    "colab": {
      "provenance": [],
      "include_colab_link": true
    },
    "kernelspec": {
      "name": "python3",
      "display_name": "Python 3"
    },
    "language_info": {
      "name": "python"
    }
  },
  "cells": [
    {
      "cell_type": "markdown",
      "metadata": {
        "id": "view-in-github",
        "colab_type": "text"
      },
      "source": [
        "<a href=\"https://colab.research.google.com/github/amandaswens/DSPS_ASwenson/blob/main/HW2/combinatorialprob.ipynb\" target=\"_parent\"><img src=\"https://colab.research.google.com/assets/colab-badge.svg\" alt=\"Open In Colab\"/></a>"
      ]
    },
    {
      "cell_type": "code",
      "execution_count": 63,
      "metadata": {
        "id": "uLxenWwnvmQ2"
      },
      "outputs": [],
      "source": [
        "import numpy as np"
      ]
    },
    {
      "cell_type": "code",
      "source": [
        "!wget https://raw.githubusercontent.com/fedhere/DSPS_FBianco/refs/heads/main/.code/checkanswers1.py"
      ],
      "metadata": {
        "id": "YldnMu9Tv_xh",
        "colab": {
          "base_uri": "https://localhost:8080/"
        },
        "outputId": "a649ff60-0a7c-4b0f-c224-6c8774a7bcf8"
      },
      "execution_count": 56,
      "outputs": [
        {
          "output_type": "stream",
          "name": "stdout",
          "text": [
            "--2025-09-10 02:25:50--  https://raw.githubusercontent.com/fedhere/DSPS_FBianco/refs/heads/main/.code/checkanswers1.py\n",
            "Resolving raw.githubusercontent.com (raw.githubusercontent.com)... 185.199.111.133, 185.199.110.133, 185.199.108.133, ...\n",
            "Connecting to raw.githubusercontent.com (raw.githubusercontent.com)|185.199.111.133|:443... connected.\n",
            "HTTP request sent, awaiting response... 200 OK\n",
            "Length: 577 [text/plain]\n",
            "Saving to: ‘checkanswers1.py.2’\n",
            "\n",
            "\rcheckanswers1.py.2    0%[                    ]       0  --.-KB/s               \rcheckanswers1.py.2  100%[===================>]     577  --.-KB/s    in 0s      \n",
            "\n",
            "2025-09-10 02:25:50 (33.2 MB/s) - ‘checkanswers1.py.2’ saved [577/577]\n",
            "\n"
          ]
        }
      ]
    },
    {
      "cell_type": "code",
      "source": [
        "from checkanswers1 import * # NOTE: this is really bad practice! generally dont do from whatever import * - you risk to overwrite built in or loaded functions!"
      ],
      "metadata": {
        "id": "51ZbhBlJwD7Y"
      },
      "execution_count": 3,
      "outputs": []
    },
    {
      "cell_type": "markdown",
      "source": [
        "# PROBABILITY AND COMBINATORIAL MATH\n",
        "# ANSWER ALL QUESTIONS BELOW\n",
        "\n",
        "you can use the slides to find answers, especially\n",
        "https://slides.com/d/I7F8T44/live#/5/7"
      ],
      "metadata": {
        "id": "oVVl2Ho8DMPP"
      }
    },
    {
      "cell_type": "markdown",
      "source": [
        "# Independent and disjoint"
      ],
      "metadata": {
        "id": "lnXwG2X6vqQJ"
      }
    },
    {
      "cell_type": "markdown",
      "source": [
        "A and B are **indipendent disjoint** outcomes. Answer the following questions"
      ],
      "metadata": {
        "id": "pIa3AACMx17V"
      }
    },
    {
      "cell_type": "code",
      "source": [
        "P_A = 0.5\n",
        "P_B = 0.3"
      ],
      "metadata": {
        "id": "RaHOb4l3vtOB"
      },
      "execution_count": 79,
      "outputs": []
    },
    {
      "cell_type": "markdown",
      "source": [
        "**Q1: What is the intecept of P(A) and P(B) $P(A)\\cap P(B)$ (or P(A) AND P(B))**"
      ],
      "metadata": {
        "id": "k1w-aSQryEW0"
      }
    },
    {
      "cell_type": "code",
      "source": [
        "# fill in this cell\n",
        "P_A_intercept_B = 0\n",
        "print(P_A_intercept_B)"
      ],
      "metadata": {
        "id": "p8Th4yiczTzX",
        "outputId": "e0778d27-7aa4-46c1-a529-8503bf96329b",
        "colab": {
          "base_uri": "https://localhost:8080/"
        }
      },
      "execution_count": 80,
      "outputs": [
        {
          "output_type": "stream",
          "name": "stdout",
          "text": [
            "0\n"
          ]
        }
      ]
    },
    {
      "cell_type": "markdown",
      "source": [
        "Continue to assuming that A and B are independent.\n",
        "\n",
        "**Q2: what is the probability of getting either A OR B in a draw**"
      ],
      "metadata": {
        "id": "-G_pD66L5D-N"
      }
    },
    {
      "cell_type": "code",
      "source": [
        "# fill in this cell with an equation using no hard coded numbers but the variables P_A and P_B\n",
        "P_A_or_B = P_A + P_B - P_A_intercept_B\n",
        "print(P_A_or_B)"
      ],
      "metadata": {
        "id": "pgWW0AyOwrJx",
        "outputId": "c91ae397-a02f-43b8-9123-4c081f732ce8",
        "colab": {
          "base_uri": "https://localhost:8080/"
        }
      },
      "execution_count": 92,
      "outputs": [
        {
          "output_type": "stream",
          "name": "stdout",
          "text": [
            "0.8\n"
          ]
        }
      ]
    },
    {
      "cell_type": "markdown",
      "source": [
        "Continue to assuming that A and B are independent.\n",
        "\n",
        "**Q3: what is the probability of A AND B as the two outcomes of two independent draws, in that order**"
      ],
      "metadata": {
        "id": "0zv5M1nny-7g"
      }
    },
    {
      "cell_type": "code",
      "source": [
        "# fill in this cell with an equation using no hard coded numbers but the variables P_A and P_B\n",
        "P_A_and_B = P_A * P_B\n",
        "print(P_A_and_B)"
      ],
      "metadata": {
        "id": "rNYaOGD3vxv3",
        "outputId": "17383ca0-7440-45c2-f81a-10339e880ccc",
        "colab": {
          "base_uri": "https://localhost:8080/"
        }
      },
      "execution_count": 93,
      "outputs": [
        {
          "output_type": "stream",
          "name": "stdout",
          "text": [
            "0.15\n"
          ]
        }
      ]
    },
    {
      "cell_type": "markdown",
      "source": [
        "Continue to assuming A and B are independent.\n",
        "\n",
        "**Q4: what is the $P(A|B)$ probability of A GIVEN B (i.e. probability that given that I drew B first, now I will draw A)**"
      ],
      "metadata": {
        "id": "BnV03j7_Byag"
      }
    },
    {
      "cell_type": "code",
      "source": [
        "# fill in this cell with an equation using no hard coded numbers but the variables P_A and P_B\n",
        "P_A_given_B = P_A\n",
        "print(P_A_given_B)"
      ],
      "metadata": {
        "id": "UhQ4hcmpCLGa",
        "outputId": "94481618-ff3c-4bec-884f-4e3da62fe771",
        "colab": {
          "base_uri": "https://localhost:8080/"
        }
      },
      "execution_count": 94,
      "outputs": [
        {
          "output_type": "stream",
          "name": "stdout",
          "text": [
            "0.5\n"
          ]
        }
      ]
    },
    {
      "cell_type": "code",
      "source": [
        "#run this cell to see if you got the right answer\n",
        "print(\"Q1 answer\")\n",
        "check_independent_probAND(P_A_and_B)\n",
        "\n",
        "print(\"\\nQ2 answer\")\n",
        "check_independent_probOR(P_A_or_B)\n",
        "\n",
        "print(\"\\nQ3 answer\")\n",
        "check_independent_intersection(P_A_intercept_B)\n",
        "\n",
        "print(\"\\nQ4 answer\")\n",
        "check_independent_probGIVEN(P_A_given_B)"
      ],
      "metadata": {
        "id": "XUQ4Gqohv2SC",
        "outputId": "777ec68b-4018-4ee3-f8ea-2d052cd9fe4c",
        "colab": {
          "base_uri": "https://localhost:8080/"
        }
      },
      "execution_count": 95,
      "outputs": [
        {
          "output_type": "stream",
          "name": "stdout",
          "text": [
            "Q1 answer\n",
            "CORRECT\n",
            "\n",
            "Q2 answer\n",
            "CORRECT\n",
            "\n",
            "Q3 answer\n",
            "CORRECT\n",
            "\n",
            "Q4 answer\n",
            "CORRECT\n"
          ]
        }
      ]
    },
    {
      "cell_type": "markdown",
      "source": [
        "# Complement"
      ],
      "metadata": {
        "id": "_miZRCVj52n3"
      }
    },
    {
      "cell_type": "markdown",
      "source": [
        "if AA is the complement of A (normally notiation is $\\bar{A}$)\n",
        "\n",
        "**Q5: what is the probability of A OR AA?**"
      ],
      "metadata": {
        "id": "7nSOE2r-xHKZ"
      }
    },
    {
      "cell_type": "code",
      "source": [
        "P_AA = 1 - P_A\n",
        "P_A_or_AA = P_A + P_AA\n",
        "print(P_A_or_AA)"
      ],
      "metadata": {
        "id": "1QZYBWM-wzoX",
        "outputId": "47fee88e-d1e5-4c4d-f6a5-9b5158ee1abc",
        "colab": {
          "base_uri": "https://localhost:8080/"
        }
      },
      "execution_count": 97,
      "outputs": [
        {
          "output_type": "stream",
          "name": "stdout",
          "text": [
            "1.0\n"
          ]
        }
      ]
    },
    {
      "cell_type": "markdown",
      "source": [
        "**Q5: what is the probability of A AND AA?**"
      ],
      "metadata": {
        "id": "vA8o4WBADrnS"
      }
    },
    {
      "cell_type": "code",
      "source": [
        "P_A_and_AA = 0"
      ],
      "metadata": {
        "id": "hv3h9jkQDq9K"
      },
      "execution_count": 98,
      "outputs": []
    },
    {
      "cell_type": "code",
      "source": [
        "# run this cell\n",
        "check_complement_probOR(P_A_or_AA)\n",
        "check_complement_probAND(P_A_and_AA)"
      ],
      "metadata": {
        "collapsed": true,
        "id": "xWjxJyx8xjoJ",
        "outputId": "66cbae07-b0be-47f2-9d6b-d533ba2e5452",
        "colab": {
          "base_uri": "https://localhost:8080/"
        }
      },
      "execution_count": 99,
      "outputs": [
        {
          "output_type": "stream",
          "name": "stdout",
          "text": [
            "CORRECT\n",
            "CORRECT\n"
          ]
        }
      ]
    }
  ]
}