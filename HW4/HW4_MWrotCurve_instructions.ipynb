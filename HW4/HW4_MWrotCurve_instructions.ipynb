{
  "nbformat": 4,
  "nbformat_minor": 0,
  "metadata": {
    "kernelspec": {
      "display_name": "Python 3",
      "language": "python",
      "name": "python3"
    },
    "language_info": {
      "codemirror_mode": {
        "name": "ipython",
        "version": 3
      },
      "file_extension": ".py",
      "mimetype": "text/x-python",
      "name": "python",
      "nbconvert_exporter": "python",
      "pygments_lexer": "ipython3",
      "version": "3.6.7"
    },
    "nbTranslate": {
      "displayLangs": [
        "*"
      ],
      "hotkey": "alt-t",
      "langInMainMenu": true,
      "sourceLang": "en",
      "targetLang": "fr",
      "useGoogleTranslate": true
    },
    "toc": {
      "base_numbering": 1,
      "colors": {
        "hover_highlight": "#DAA520",
        "running_highlight": "#FF0000",
        "selected_highlight": "#FFD700"
      },
      "moveMenuLeft": true,
      "nav_menu": {},
      "navigate_menu": true,
      "number_sections": true,
      "sideBar": true,
      "skip_h1_title": false,
      "threshold": 4,
      "title_cell": "Table of Contents",
      "title_sidebar": "Contents",
      "toc_cell": false,
      "toc_position": {
        "height": "calc(100% - 180px)",
        "left": "10px",
        "top": "150px",
        "width": "165px"
      },
      "toc_section_display": true,
      "toc_window_display": true
    },
    "colab": {
      "provenance": [],
      "collapsed_sections": [
        "6me5k4c1OdDY"
      ],
      "include_colab_link": true
    }
  },
  "cells": [
    {
      "cell_type": "markdown",
      "metadata": {
        "id": "view-in-github",
        "colab_type": "text"
      },
      "source": [
        "<a href=\"https://colab.research.google.com/github/amandaswens/DSPS_ASwenson/blob/main/HW4/HW4_MWrotCurve_instructions.ipynb\" target=\"_parent\"><img src=\"https://colab.research.google.com/assets/colab-badge.svg\" alt=\"Open In Colab\"/></a>"
      ]
    },
    {
      "cell_type": "markdown",
      "metadata": {
        "run_control": {
          "frozen": false,
          "read_only": false
        },
        "id": "rxa6Xa3jOdCI"
      },
      "source": [
        "prepared by federica b bianco @fedhere\n",
        "for UDel DSPS PHYS 461/661\n",
        "\n",
        "# testing the \"significance\" of Dark Matter"
      ]
    },
    {
      "cell_type": "code",
      "metadata": {
        "ExecuteTime": {
          "end_time": "2019-09-16T17:54:57.244596Z",
          "start_time": "2019-09-16T17:54:57.231090Z"
        },
        "run_control": {
          "frozen": false,
          "read_only": false
        },
        "id": "Ya2RaOGbOdCJ"
      },
      "source": [
        "...\n",
        "\n",
        "#package I will use for constants and units conversion\n",
        "import astropy\n",
        "from astropy.constants import G\n",
        "\n",
        "#package used to display latex formuale\n",
        "from IPython.display import Latex\n",
        "\n",
        "import pandas as pd\n"
      ],
      "execution_count": 2,
      "outputs": []
    },
    {
      "cell_type": "markdown",
      "metadata": {
        "id": "4qp8A2TG1Gwb"
      },
      "source": [
        "In 1970 Vera Rubin published a seminal paper: she measured the rotational speed of HII regions in several galaxies and how it changed as a function of distance to the center of the galaxy. If we believe Newtonian gravity (or GR for that matter) we expect that _once all of the mass is included_, i.e. at a radius distance from the center of the galaxy larger than the radius of the galaxy itself, the rotational speed will be proportional to $v^2\\propto\\frac{1}{r}$\n",
        "\n",
        "You will use astropy in this exercise, a popular and powerfull package for astrophysical analysis in python. One of the most interesting and unique characteristics of astropy is that it allows treatment of units. When you have a quantity (say `x=3`) in python you can express it with the appropriate units (say meters) as `x=3 * u.meter`"
      ]
    },
    {
      "cell_type": "code",
      "source": [
        "#example\n",
        "x = 3\n",
        "x"
      ],
      "metadata": {
        "id": "hxiNEw-B_1IS",
        "outputId": "624d5f92-3bde-4e0e-db09-06eaa5e009d0",
        "colab": {
          "base_uri": "https://localhost:8080/"
        }
      },
      "execution_count": 3,
      "outputs": [
        {
          "output_type": "execute_result",
          "data": {
            "text/plain": [
              "3"
            ]
          },
          "metadata": {},
          "execution_count": 3
        }
      ]
    },
    {
      "cell_type": "code",
      "source": [
        "# note : by PEP8 standards the import should be at the top, I leave it here for hyou to see that I am using astropy.units now for visibility. Please move it to the top cell\n",
        "from astropy import units as u\n",
        "x_in_m = x * u.meter\n",
        "x_in_m"
      ],
      "metadata": {
        "id": "UEyApnDPAH0s",
        "outputId": "e35e1ca1-930f-48b6-fd8e-bfe72d177d6c",
        "colab": {
          "base_uri": "https://localhost:8080/",
          "height": 37
        }
      },
      "execution_count": 4,
      "outputs": [
        {
          "output_type": "execute_result",
          "data": {
            "text/plain": [
              "<Quantity 3. m>"
            ],
            "text/latex": "$3 \\; \\mathrm{m}$"
          },
          "metadata": {},
          "execution_count": 4
        }
      ]
    },
    {
      "cell_type": "markdown",
      "source": [
        "once the quantities have units they can be converted with astropy methods: e.g."
      ],
      "metadata": {
        "id": "Q4E5uRybAcjF"
      }
    },
    {
      "cell_type": "code",
      "source": [
        "x_in_km = x_in_m.to(u.kilometer)\n",
        "x_in_km"
      ],
      "metadata": {
        "id": "e0V9u5kRAgML",
        "outputId": "7f43a299-b191-48f8-aa12-64240397d926",
        "colab": {
          "base_uri": "https://localhost:8080/",
          "height": 37
        }
      },
      "execution_count": 5,
      "outputs": [
        {
          "output_type": "execute_result",
          "data": {
            "text/plain": [
              "<Quantity 0.003 km>"
            ],
            "text/latex": "$0.003 \\; \\mathrm{km}$"
          },
          "metadata": {},
          "execution_count": 5
        }
      ]
    },
    {
      "cell_type": "markdown",
      "metadata": {
        "run_control": {
          "frozen": false,
          "read_only": false
        },
        "id": "j-BDrNseOdCR"
      },
      "source": [
        "## Propagation of  uncertainties rules\n",
        "\n",
        "below are the basic rules for propagation of uncertainties - use [this as reference](https://github.com/fedhere/DSPS/blob/master/resources/Managing%20Errors%20and%20Uncertainty.pdf)"
      ]
    },
    {
      "cell_type": "markdown",
      "metadata": {
        "id": "4LnLCwYpPYSv"
      },
      "source": []
    },
    {
      "cell_type": "markdown",
      "metadata": {
        "id": "iCrFipBzOzqp"
      },
      "source": [
        "\n",
        "\n",
        "\n",
        "$$\n",
        "\\begin{eqnarray}\n",
        "z = x  \\pm y  ~| & ~  &dz = \\sqrt{dx^2 + dy^2}\n",
        "\\\\\n",
        "z = x * y  ~| & ~& dz = |xy|  \\sqrt{\\left(\\frac{dx}{x}\\right)^2 +\n",
        "                                \\left(\\frac{dy}{y}\\right)^2} \\\\\n",
        "z = x / y  ~| & ~& dz = \\left|\\frac{x}{y}\\right| \\sqrt{\\left(\\frac{dx}{x}\\right)^2 +\n",
        "                                                   \\left(\\frac{dy}{y}\\right)^2} \\\\\n",
        "z = x^n ~| & ~& dz = |n| ~ x^{n-1}  dx \\\\\n",
        "z = \\mathrm{c}x ~| & ~& dz = |\\mathrm{c}| ~dx \\\\\n",
        "z = f(x, y) ~| & ~& dz = \\sqrt{\\left(\\frac{\\partial f}{\\partial x}\\right)^2 dx^2 +\\left(\\frac{\\partial f}{\\partial y}\\right)^2 dy^2} \\\\\n",
        "\\end{eqnarray}\n",
        "$$\n"
      ]
    },
    {
      "cell_type": "markdown",
      "metadata": {
        "run_control": {
          "frozen": false,
          "read_only": false
        },
        "id": "WcF0zlWCOdCX"
      },
      "source": [
        "# let's assume a Newtonian framework:\n",
        "the velocity of a body in orbit depends only on the gravitational field of the mass that attracts it, and we can assume that mass is concentrated in the center of mass  (the geometric center for simplicity) of the system\n",
        "\n",
        "with G the gravitational constant, $r$ the radius, and $m(r)$ the mass contained within that radius we have the orbital velocity $v$:\n"
      ]
    },
    {
      "cell_type": "markdown",
      "metadata": {
        "id": "ZON0DKl5Qm2S"
      },
      "source": [
        "\n",
        "$v^2 = \\frac{G \\cdot m(r)}{r}$\n"
      ]
    },
    {
      "cell_type": "markdown",
      "metadata": {
        "id": "lVfy9lJ21xMT"
      },
      "source": [
        "Assignment: Derive this $v^2 \\propto\\frac{1}{r}$ at different distances from the center of the Galaxy for M31 and the Milky Way from Newton's law $F~=~\\frac{GMm}{r^2}$.\n",
        "\n",
        "Write each formula you use and describe each step in text cells within this notebook.\n",
        "\n",
        "You can use latex to write the formulate(you really just need to know ```\\frac{}``` for the fractions and ```^``` for the powers) and this reference\n",
        "https://www.physicsclassroom.com/calcpad/circgrav"
      ]
    },
    {
      "cell_type": "markdown",
      "metadata": {
        "run_control": {
          "frozen": false,
          "read_only": false
        },
        "id": "KQAEJtWuOdCb"
      },
      "source": [
        "## M31 rotational curve"
      ]
    },
    {
      "cell_type": "markdown",
      "metadata": {
        "ExecuteTime": {
          "end_time": "2019-08-02T01:34:15.029084Z",
          "start_time": "2019-08-02T01:34:15.026604Z"
        },
        "run_control": {
          "frozen": false,
          "read_only": false
        },
        "id": "BTaXzFYeOdCc"
      },
      "source": [
        "### data ingestion\n",
        "Orignal data in https://academic.oup.com/pasj/article-abstract/67/4/75/1536635?redirectedFrom=fulltext&login=false but I converted it to csv already for you\n",
        "\n",
        "Get the data from the github repository https://github.com/fedhere/DSPS_FBianco/tree/master/HW4 : there are 2 files: mw.csv for the Millky Way and m31.csv for M31,the Andromeda galaxy. Start with M31,  Vera Rubin's original target."
      ]
    },
    {
      "cell_type": "markdown",
      "metadata": {
        "id": "_iFrkUYEV1SS"
      },
      "source": [
        "Note that the data contains 2 types of uncertainties: one significantly smaller than the other. The ```dv``` uncertainty derived by propagating the uncertainty in the measured  wavelength of the HII line. The uncertainty called ```err``` is the remaining error budget. To include all sources combine in quadrature the uncertiainties `dv` and `err` and call that `err_tot` including _all_ sources of uncertainty and not just the uncertainty in measuring the location of the line. Retain both, you will test your hypothesis with each one to see if it matters which uncertainty you choose"
      ]
    },
    {
      "cell_type": "code",
      "metadata": {
        "ExecuteTime": {
          "end_time": "2019-08-02T01:34:33.446619Z",
          "start_time": "2019-08-02T01:34:33.435793Z"
        },
        "run_control": {
          "frozen": false,
          "read_only": false
        },
        "id": "eZ7nr5DROdCd"
      },
      "source": [
        "m31 = pd.read_csv('https://raw.githubusercontent.com/fedhere/DSPS_FBianco/master/HW4/m31.csv')"
      ],
      "execution_count": 6,
      "outputs": []
    },
    {
      "cell_type": "code",
      "metadata": {
        "id": "luL5UrsNQ1M1",
        "colab": {
          "base_uri": "https://localhost:8080/",
          "height": 206
        },
        "outputId": "c8efbf80-1cf5-4b07-b834-63414967d82a"
      },
      "source": [
        "\n",
        "m31.head()"
      ],
      "execution_count": 32,
      "outputs": [
        {
          "output_type": "execute_result",
          "data": {
            "text/plain": [
              "   #R(kpc  V(km/s)  Standard_Deviation  Standard_Error\n",
              "0   0.100  183.939               0.000           0.000\n",
              "1   0.120  190.710              10.265          12.191\n",
              "2   0.144  204.141              22.634          21.808\n",
              "3   0.173  207.601               4.573           4.200\n",
              "4   0.207  210.188               3.943           3.258"
            ],
            "text/html": [
              "\n",
              "  <div id=\"df-5a1cba91-a746-4f07-be87-2765a1244e4f\" class=\"colab-df-container\">\n",
              "    <div>\n",
              "<style scoped>\n",
              "    .dataframe tbody tr th:only-of-type {\n",
              "        vertical-align: middle;\n",
              "    }\n",
              "\n",
              "    .dataframe tbody tr th {\n",
              "        vertical-align: top;\n",
              "    }\n",
              "\n",
              "    .dataframe thead th {\n",
              "        text-align: right;\n",
              "    }\n",
              "</style>\n",
              "<table border=\"1\" class=\"dataframe\">\n",
              "  <thead>\n",
              "    <tr style=\"text-align: right;\">\n",
              "      <th></th>\n",
              "      <th>#R(kpc</th>\n",
              "      <th>V(km/s)</th>\n",
              "      <th>Standard_Deviation</th>\n",
              "      <th>Standard_Error</th>\n",
              "    </tr>\n",
              "  </thead>\n",
              "  <tbody>\n",
              "    <tr>\n",
              "      <th>0</th>\n",
              "      <td>0.100</td>\n",
              "      <td>183.939</td>\n",
              "      <td>0.000</td>\n",
              "      <td>0.000</td>\n",
              "    </tr>\n",
              "    <tr>\n",
              "      <th>1</th>\n",
              "      <td>0.120</td>\n",
              "      <td>190.710</td>\n",
              "      <td>10.265</td>\n",
              "      <td>12.191</td>\n",
              "    </tr>\n",
              "    <tr>\n",
              "      <th>2</th>\n",
              "      <td>0.144</td>\n",
              "      <td>204.141</td>\n",
              "      <td>22.634</td>\n",
              "      <td>21.808</td>\n",
              "    </tr>\n",
              "    <tr>\n",
              "      <th>3</th>\n",
              "      <td>0.173</td>\n",
              "      <td>207.601</td>\n",
              "      <td>4.573</td>\n",
              "      <td>4.200</td>\n",
              "    </tr>\n",
              "    <tr>\n",
              "      <th>4</th>\n",
              "      <td>0.207</td>\n",
              "      <td>210.188</td>\n",
              "      <td>3.943</td>\n",
              "      <td>3.258</td>\n",
              "    </tr>\n",
              "  </tbody>\n",
              "</table>\n",
              "</div>\n",
              "    <div class=\"colab-df-buttons\">\n",
              "\n",
              "  <div class=\"colab-df-container\">\n",
              "    <button class=\"colab-df-convert\" onclick=\"convertToInteractive('df-5a1cba91-a746-4f07-be87-2765a1244e4f')\"\n",
              "            title=\"Convert this dataframe to an interactive table.\"\n",
              "            style=\"display:none;\">\n",
              "\n",
              "  <svg xmlns=\"http://www.w3.org/2000/svg\" height=\"24px\" viewBox=\"0 -960 960 960\">\n",
              "    <path d=\"M120-120v-720h720v720H120Zm60-500h600v-160H180v160Zm220 220h160v-160H400v160Zm0 220h160v-160H400v160ZM180-400h160v-160H180v160Zm440 0h160v-160H620v160ZM180-180h160v-160H180v160Zm440 0h160v-160H620v160Z\"/>\n",
              "  </svg>\n",
              "    </button>\n",
              "\n",
              "  <style>\n",
              "    .colab-df-container {\n",
              "      display:flex;\n",
              "      gap: 12px;\n",
              "    }\n",
              "\n",
              "    .colab-df-convert {\n",
              "      background-color: #E8F0FE;\n",
              "      border: none;\n",
              "      border-radius: 50%;\n",
              "      cursor: pointer;\n",
              "      display: none;\n",
              "      fill: #1967D2;\n",
              "      height: 32px;\n",
              "      padding: 0 0 0 0;\n",
              "      width: 32px;\n",
              "    }\n",
              "\n",
              "    .colab-df-convert:hover {\n",
              "      background-color: #E2EBFA;\n",
              "      box-shadow: 0px 1px 2px rgba(60, 64, 67, 0.3), 0px 1px 3px 1px rgba(60, 64, 67, 0.15);\n",
              "      fill: #174EA6;\n",
              "    }\n",
              "\n",
              "    .colab-df-buttons div {\n",
              "      margin-bottom: 4px;\n",
              "    }\n",
              "\n",
              "    [theme=dark] .colab-df-convert {\n",
              "      background-color: #3B4455;\n",
              "      fill: #D2E3FC;\n",
              "    }\n",
              "\n",
              "    [theme=dark] .colab-df-convert:hover {\n",
              "      background-color: #434B5C;\n",
              "      box-shadow: 0px 1px 3px 1px rgba(0, 0, 0, 0.15);\n",
              "      filter: drop-shadow(0px 1px 2px rgba(0, 0, 0, 0.3));\n",
              "      fill: #FFFFFF;\n",
              "    }\n",
              "  </style>\n",
              "\n",
              "    <script>\n",
              "      const buttonEl =\n",
              "        document.querySelector('#df-5a1cba91-a746-4f07-be87-2765a1244e4f button.colab-df-convert');\n",
              "      buttonEl.style.display =\n",
              "        google.colab.kernel.accessAllowed ? 'block' : 'none';\n",
              "\n",
              "      async function convertToInteractive(key) {\n",
              "        const element = document.querySelector('#df-5a1cba91-a746-4f07-be87-2765a1244e4f');\n",
              "        const dataTable =\n",
              "          await google.colab.kernel.invokeFunction('convertToInteractive',\n",
              "                                                    [key], {});\n",
              "        if (!dataTable) return;\n",
              "\n",
              "        const docLinkHtml = 'Like what you see? Visit the ' +\n",
              "          '<a target=\"_blank\" href=https://colab.research.google.com/notebooks/data_table.ipynb>data table notebook</a>'\n",
              "          + ' to learn more about interactive tables.';\n",
              "        element.innerHTML = '';\n",
              "        dataTable['output_type'] = 'display_data';\n",
              "        await google.colab.output.renderOutput(dataTable, element);\n",
              "        const docLink = document.createElement('div');\n",
              "        docLink.innerHTML = docLinkHtml;\n",
              "        element.appendChild(docLink);\n",
              "      }\n",
              "    </script>\n",
              "  </div>\n",
              "\n",
              "\n",
              "    <div id=\"df-0a78e053-0320-4f09-b6bf-ca54fddf2410\">\n",
              "      <button class=\"colab-df-quickchart\" onclick=\"quickchart('df-0a78e053-0320-4f09-b6bf-ca54fddf2410')\"\n",
              "                title=\"Suggest charts\"\n",
              "                style=\"display:none;\">\n",
              "\n",
              "<svg xmlns=\"http://www.w3.org/2000/svg\" height=\"24px\"viewBox=\"0 0 24 24\"\n",
              "     width=\"24px\">\n",
              "    <g>\n",
              "        <path d=\"M19 3H5c-1.1 0-2 .9-2 2v14c0 1.1.9 2 2 2h14c1.1 0 2-.9 2-2V5c0-1.1-.9-2-2-2zM9 17H7v-7h2v7zm4 0h-2V7h2v10zm4 0h-2v-4h2v4z\"/>\n",
              "    </g>\n",
              "</svg>\n",
              "      </button>\n",
              "\n",
              "<style>\n",
              "  .colab-df-quickchart {\n",
              "      --bg-color: #E8F0FE;\n",
              "      --fill-color: #1967D2;\n",
              "      --hover-bg-color: #E2EBFA;\n",
              "      --hover-fill-color: #174EA6;\n",
              "      --disabled-fill-color: #AAA;\n",
              "      --disabled-bg-color: #DDD;\n",
              "  }\n",
              "\n",
              "  [theme=dark] .colab-df-quickchart {\n",
              "      --bg-color: #3B4455;\n",
              "      --fill-color: #D2E3FC;\n",
              "      --hover-bg-color: #434B5C;\n",
              "      --hover-fill-color: #FFFFFF;\n",
              "      --disabled-bg-color: #3B4455;\n",
              "      --disabled-fill-color: #666;\n",
              "  }\n",
              "\n",
              "  .colab-df-quickchart {\n",
              "    background-color: var(--bg-color);\n",
              "    border: none;\n",
              "    border-radius: 50%;\n",
              "    cursor: pointer;\n",
              "    display: none;\n",
              "    fill: var(--fill-color);\n",
              "    height: 32px;\n",
              "    padding: 0;\n",
              "    width: 32px;\n",
              "  }\n",
              "\n",
              "  .colab-df-quickchart:hover {\n",
              "    background-color: var(--hover-bg-color);\n",
              "    box-shadow: 0 1px 2px rgba(60, 64, 67, 0.3), 0 1px 3px 1px rgba(60, 64, 67, 0.15);\n",
              "    fill: var(--button-hover-fill-color);\n",
              "  }\n",
              "\n",
              "  .colab-df-quickchart-complete:disabled,\n",
              "  .colab-df-quickchart-complete:disabled:hover {\n",
              "    background-color: var(--disabled-bg-color);\n",
              "    fill: var(--disabled-fill-color);\n",
              "    box-shadow: none;\n",
              "  }\n",
              "\n",
              "  .colab-df-spinner {\n",
              "    border: 2px solid var(--fill-color);\n",
              "    border-color: transparent;\n",
              "    border-bottom-color: var(--fill-color);\n",
              "    animation:\n",
              "      spin 1s steps(1) infinite;\n",
              "  }\n",
              "\n",
              "  @keyframes spin {\n",
              "    0% {\n",
              "      border-color: transparent;\n",
              "      border-bottom-color: var(--fill-color);\n",
              "      border-left-color: var(--fill-color);\n",
              "    }\n",
              "    20% {\n",
              "      border-color: transparent;\n",
              "      border-left-color: var(--fill-color);\n",
              "      border-top-color: var(--fill-color);\n",
              "    }\n",
              "    30% {\n",
              "      border-color: transparent;\n",
              "      border-left-color: var(--fill-color);\n",
              "      border-top-color: var(--fill-color);\n",
              "      border-right-color: var(--fill-color);\n",
              "    }\n",
              "    40% {\n",
              "      border-color: transparent;\n",
              "      border-right-color: var(--fill-color);\n",
              "      border-top-color: var(--fill-color);\n",
              "    }\n",
              "    60% {\n",
              "      border-color: transparent;\n",
              "      border-right-color: var(--fill-color);\n",
              "    }\n",
              "    80% {\n",
              "      border-color: transparent;\n",
              "      border-right-color: var(--fill-color);\n",
              "      border-bottom-color: var(--fill-color);\n",
              "    }\n",
              "    90% {\n",
              "      border-color: transparent;\n",
              "      border-bottom-color: var(--fill-color);\n",
              "    }\n",
              "  }\n",
              "</style>\n",
              "\n",
              "      <script>\n",
              "        async function quickchart(key) {\n",
              "          const quickchartButtonEl =\n",
              "            document.querySelector('#' + key + ' button');\n",
              "          quickchartButtonEl.disabled = true;  // To prevent multiple clicks.\n",
              "          quickchartButtonEl.classList.add('colab-df-spinner');\n",
              "          try {\n",
              "            const charts = await google.colab.kernel.invokeFunction(\n",
              "                'suggestCharts', [key], {});\n",
              "          } catch (error) {\n",
              "            console.error('Error during call to suggestCharts:', error);\n",
              "          }\n",
              "          quickchartButtonEl.classList.remove('colab-df-spinner');\n",
              "          quickchartButtonEl.classList.add('colab-df-quickchart-complete');\n",
              "        }\n",
              "        (() => {\n",
              "          let quickchartButtonEl =\n",
              "            document.querySelector('#df-0a78e053-0320-4f09-b6bf-ca54fddf2410 button');\n",
              "          quickchartButtonEl.style.display =\n",
              "            google.colab.kernel.accessAllowed ? 'block' : 'none';\n",
              "        })();\n",
              "      </script>\n",
              "    </div>\n",
              "\n",
              "    </div>\n",
              "  </div>\n"
            ],
            "application/vnd.google.colaboratory.intrinsic+json": {
              "type": "dataframe",
              "variable_name": "m31",
              "summary": "{\n  \"name\": \"m31\",\n  \"rows\": 55,\n  \"fields\": [\n    {\n      \"column\": \"#R(kpc\",\n      \"properties\": {\n        \"dtype\": \"number\",\n        \"std\": 415.5239040951168,\n        \"min\": 0.1,\n        \"max\": 1887.071,\n        \"num_unique_values\": 55,\n        \"samples\": [\n          28.485,\n          0.249,\n          34.182\n        ],\n        \"semantic_type\": \"\",\n        \"description\": \"\"\n      }\n    },\n    {\n      \"column\": \"V(km/s)\",\n      \"properties\": {\n        \"dtype\": \"number\",\n        \"std\": 42.79989232732137,\n        \"min\": 121.974,\n        \"max\": 414.942,\n        \"num_unique_values\": 55,\n        \"samples\": [\n          232.335,\n          213.512,\n          233.53\n        ],\n        \"semantic_type\": \"\",\n        \"description\": \"\"\n      }\n    },\n    {\n      \"column\": \"Standard_Deviation\",\n      \"properties\": {\n        \"dtype\": \"number\",\n        \"std\": 49.25479214102135,\n        \"min\": 0.0,\n        \"max\": 147.835,\n        \"num_unique_values\": 55,\n        \"samples\": [\n          16.577,\n          4.218,\n          27.353\n        ],\n        \"semantic_type\": \"\",\n        \"description\": \"\"\n      }\n    },\n    {\n      \"column\": \"Standard_Error\",\n      \"properties\": {\n        \"dtype\": \"number\",\n        \"std\": 14.876950752158686,\n        \"min\": 0.0,\n        \"max\": 54.11,\n        \"num_unique_values\": 55,\n        \"samples\": [\n          2.106,\n          3.19,\n          3.826\n        ],\n        \"semantic_type\": \"\",\n        \"description\": \"\"\n      }\n    }\n  ]\n}"
            }
          },
          "metadata": {},
          "execution_count": 32
        }
      ]
    },
    {
      "cell_type": "code",
      "source": [
        "m31.columns"
      ],
      "metadata": {
        "colab": {
          "base_uri": "https://localhost:8080/"
        },
        "id": "rENDMI_BCgAl",
        "outputId": "4a6904af-bcfa-4a46-dc78-0688e56bd18e"
      },
      "execution_count": 39,
      "outputs": [
        {
          "output_type": "execute_result",
          "data": {
            "text/plain": [
              "Index(['Radius', 'Velocity', 'Standard Deviation', 'Standard Error'], dtype='object')"
            ]
          },
          "metadata": {},
          "execution_count": 39
        }
      ]
    },
    {
      "cell_type": "markdown",
      "source": [
        "# exploratory data analysis\n",
        "proceed with at least a few basic exploratory tasks\n",
        "\n",
        "- what is the shape of the dataset?\n",
        "\n",
        "- what are the statistical properties of the dataset? like the mean and variance of each column etc etc? do you remember how to get them with a single python line of code?\n",
        "\n",
        "Look at the mean and the median of each column - what can you say about the distribution based on the comparison of these two numbers?"
      ],
      "metadata": {
        "id": "8nZhqbhvP2UC"
      }
    },
    {
      "cell_type": "code",
      "metadata": {
        "ExecuteTime": {
          "end_time": "2019-08-02T01:35:26.395158Z",
          "start_time": "2019-08-02T01:35:26.373338Z"
        },
        "run_control": {
          "frozen": false,
          "read_only": false
        },
        "id": "QsNRokb1OdCh",
        "outputId": "245bf0db-4849-4852-f790-b7875c5b26c1",
        "colab": {
          "base_uri": "https://localhost:8080/"
        }
      },
      "source": [
        "print(\"The shape of the dataset is\", m31.shape)"
      ],
      "execution_count": null,
      "outputs": [
        {
          "output_type": "stream",
          "name": "stdout",
          "text": [
            "The shape of the dataset is (56, 4)\n"
          ]
        }
      ]
    },
    {
      "cell_type": "code",
      "source": [
        "print(\"\\nMean vs. Median Comparison:\")\n",
        "for column in m31.columns:\n",
        "    mean = m31[column].mean()\n",
        "    median = m31[column].median()\n",
        "    print(f\"\\n{column}:\")\n",
        "    print(f\"  Mean: {mean:.2f}\")\n",
        "    print(f\"  Median: {median:.2f}\")\n",
        "    if mean > median:\n",
        "        print(f\"  Distribution: Right-skewed (mean > median)\")\n",
        "    elif mean < median:\n",
        "        print(f\"  Distribution: Left-skewed (mean < median)\")\n",
        "    else:\n",
        "        print(f\"  Distribution: Symmetric (mean = median)\")"
      ],
      "metadata": {
        "colab": {
          "base_uri": "https://localhost:8080/"
        },
        "id": "yHVt0wTqMqvj",
        "outputId": "1854895d-9981-410f-a685-8d860425f765"
      },
      "execution_count": 77,
      "outputs": [
        {
          "output_type": "stream",
          "name": "stdout",
          "text": [
            "\n",
            "Mean vs. Median Comparison:\n",
            "\n",
            "Radius:\n",
            "  Mean: 205.85\n",
            "  Median: 13.74\n",
            "  Distribution: Right-skewed (mean > median)\n",
            "\n",
            "Velocity:\n",
            "  Mean: 226.08\n",
            "  Median: 229.12\n",
            "  Distribution: Left-skewed (mean < median)\n",
            "\n",
            "Standard Deviation:\n",
            "  Mean: 55.03\n",
            "  Median: 30.70\n",
            "  Distribution: Right-skewed (mean > median)\n",
            "\n",
            "Standard Error:\n",
            "  Mean: 16.17\n",
            "  Median: 12.06\n",
            "  Distribution: Right-skewed (mean > median)\n"
          ]
        }
      ]
    },
    {
      "cell_type": "markdown",
      "source": [
        "Make a histogram of each column of the dataframe and comment on the shape of the distribution in the caption. Remember the axis labels which, when we work with physical quantities, shoudl also state what units are used."
      ],
      "metadata": {
        "id": "ujTxbjRz8FHB"
      }
    },
    {
      "cell_type": "code",
      "source": [
        "import pandas as pd\n",
        "import matplotlib.pyplot as plt\n",
        "\n",
        "m31 = pd.read_csv('https://raw.githubusercontent.com/fedhere/DSPS_FBianco/master/HW4/m31.csv', skiprows=1)\n",
        "\n",
        "units = {\n",
        "    'R': 'kpc',\n",
        "    'V': 'km/s',\n",
        "    'St.dev.': 'km/s',\n",
        "    'St.error': 'km/s'\n",
        "}\n",
        "\n",
        "m31 = m31.rename(columns={\n",
        "    '#R(kpc': 'Radius',\n",
        "    'V(km/s)': 'Velocity',\n",
        "    'St.dev.': 'Standard Deviation',\n",
        "    'St.error': 'Standard Error'\n",
        "})\n",
        "\n",
        "units = {\n",
        "    'Radius': 'kpc',\n",
        "    'Velocity': 'km/s',\n",
        "    'Standard Deviation': 'km/s',\n",
        "    'Standard Error': 'km/s'\n",
        "}\n",
        "\n",
        "def describe_distribution(data, col_name):\n",
        "    skewness = data[col_name].skew()\n",
        "    kurtosis = data[col_name].kurtosis()\n",
        "\n",
        "    if abs(skewness) < 0.5:\n",
        "        shape = \"approximately symmetric\"\n",
        "    elif skewness > 0.5:\n",
        "        shape = \"right-skewed\"\n",
        "    elif skewness < -0.5:\n",
        "        shape = \"left-skewed\"\n",
        "\n",
        "    return shape\n",
        "\n",
        "for column in m31.select_dtypes(include=['float64', 'int64']).columns:\n",
        "    plt.figure(figsize=(8, 6))\n",
        "    plt.hist(m31[column], bins=30, edgecolor='black')\n",
        "\n",
        "    plt.xlabel(f\"{column} ({units.get(column, '')})\")\n",
        "    plt.ylabel(\"Frequency\")\n",
        "    plt.title(f\"Histogram of {column}\")\n",
        "\n",
        "    shape_description = describe_distribution(m31, column)\n",
        "    plt.figtext(0.5, -0.1, f\"Distribution: {shape_description}\", ha=\"center\", fontsize=10, bbox={\"facecolor\":\"white\", \"alpha\":0.5, \"pad\":5})\n",
        "\n",
        "    plt.tight_layout()\n",
        "    plt.show()"
      ],
      "metadata": {
        "id": "OPJxdjzt8D5l",
        "colab": {
          "base_uri": "https://localhost:8080/",
          "height": 1000
        },
        "outputId": "b168cb7e-4591-4ccd-ef3a-f8bf5929cb45"
      },
      "execution_count": 35,
      "outputs": [
        {
          "output_type": "display_data",
          "data": {
            "text/plain": [
              "<Figure size 800x600 with 1 Axes>"
            ],
            "image/png": "[encoded data removed]"
          },
          "metadata": {}
        },
        {
          "output_type": "display_data",
          "data": {
            "text/plain": [
              "<Figure size 800x600 with 1 Axes>"
            ],
            "image/png": "[encoded data removed]"
          },
          "metadata": {}
        },
        {
          "output_type": "display_data",
          "data": {
            "text/plain": [
              "<Figure size 800x600 with 1 Axes>"
            ],
            "image/png": "[encoded data removed]"
          },
          "metadata": {}
        },
        {
          "output_type": "display_data",
          "data": {
            "text/plain": [
              "<Figure size 800x600 with 1 Axes>"
            ],
            "image/png": "[encoded data removed]"
          },
          "metadata": {}
        }
      ]
    },
    {
      "cell_type": "markdown",
      "metadata": {
        "run_control": {
          "frozen": false,
          "read_only": false
        },
        "id": "Vv0Ut6vOOdCk"
      },
      "source": [
        "from https://en.wikipedia.org/wiki/Andromeda_Galaxy get the extent of the luminous component of M31 (Andromeda). The distance of the Galaxy multiplied by the angular size will give you this information from basic trigonometry (make sure you convert the units properly, using astropy). Make sure you include the uncertainties! uncertainties in the distance will give you the uncertainty in the size\n",
        "\n",
        "Assume the distance is 778 $\\pm$ 33 kpc\n",
        "   "
      ]
    },
    {
      "cell_type": "markdown",
      "metadata": {
        "id": "_pTXgdTL8jv6"
      },
      "source": [
        "Calculate and print the distance like I printed the angular size.\n",
        "\n",
        "To get the physical size of the visible component of Andromeda you can use simple trigonometry: $y = r * sin(\\alpha) ~ \\sim ~ r \\alpha $ for small angles\n",
        "\n",
        "\n",
        "Print the physical size of the Andromeda galaxy (remember decimal digits, proper formatting etc etc).\n"
      ]
    },
    {
      "cell_type": "code",
      "metadata": {
        "id": "kvIFr6D778ri",
        "colab": {
          "base_uri": "https://localhost:8080/"
        },
        "outputId": "c3f1ae77-03c3-4c26-e9d5-a5a0bf4707f5"
      },
      "source": [
        "from astropy import units as u\n",
        "\n",
        "apparentSizeM31 = 3.167 * u.degree\n",
        "m31angS = apparentSizeM31.to(u.radian)\n",
        "\n",
        "distance = 770 * u.kpc\n",
        "distance_uncertainty = 40 * u.kpc\n",
        "\n",
        "physical_size = distance * m31angS.value\n",
        "\n",
        "physical_size_uncertainty = physical_size * (distance_uncertainty / distance)\n",
        "\n",
        "physical_size_kpc = physical_size\n",
        "\n",
        "print(\"Angular Size of the visible component of Andromeda: {:.2f}\".format(m31angS))\n",
        "print(\"Distance to Andromeda: {:.2f} ± {:.2f}\".format(distance, distance_uncertainty))\n",
        "print(\"Physical Size of the luminous component of Andromeda: {:.2f} ± {:.2f}\".format(physical_size_kpc, physical_size_uncertainty))"
      ],
      "execution_count": 36,
      "outputs": [
        {
          "output_type": "stream",
          "name": "stdout",
          "text": [
            "Angular Size of the visible component of Andromeda: 0.06 rad\n",
            "Distance to Andromeda: 770.00 kpc ± 40.00 kpc\n",
            "Physical Size of the luminous component of Andromeda: 42.56 kpc ± 2.21 kpc\n"
          ]
        }
      ]
    },
    {
      "cell_type": "markdown",
      "metadata": {
        "run_control": {
          "frozen": false,
          "read_only": false
        },
        "id": "97o52hRhOdCy"
      },
      "source": [
        "### find the first measurement  in your data table that includes all the luminous mass.\n",
        "\n",
        "What is the smallest radius in your data where the luminous mass is completely included and what is the veolcity at that radius?\n",
        "You can do it by broadcasting (see homework 3)"
      ]
    },
    {
      "cell_type": "code",
      "metadata": {
        "ExecuteTime": {
          "end_time": "2019-08-02T02:10:47.943179Z",
          "start_time": "2019-08-02T02:10:47.937541Z"
        },
        "run_control": {
          "frozen": false,
          "read_only": false
        },
        "id": "JF31dWaBOdCz",
        "colab": {
          "base_uri": "https://localhost:8080/"
        },
        "outputId": "515a2e54-ad77-4947-cc7b-7f7507d34619"
      },
      "source": [
        "luminous_radius_kpc = 23.28 #from wikipedia: diameter 46.56 kpc/2\n",
        "\n",
        "mask = m31['Radius'] >= luminous_radius_kpc\n",
        "if mask.any():\n",
        "    smallest_radius = m31.loc[mask, 'Radius'].min()\n",
        "    velocity_at_radius = m31.loc[m31['Radius'] == smallest_radius, 'Velocity'].iloc[0]\n",
        "    print(f\"Smallest radius in dataset >= luminous radius: {smallest_radius:.2f} kpc\")\n",
        "    print(f\"Velocity at radius {smallest_radius:.2f} kpc: {velocity_at_radius:.2f} km/s\")\n",
        "else:\n",
        "    print(\"No radius in the dataset is >= the luminous radius.\")"
      ],
      "execution_count": 53,
      "outputs": [
        {
          "output_type": "stream",
          "name": "stdout",
          "text": [
            "Smallest radius in dataset >= luminous radius: 23.74 kpc\n",
            "Velocity at radius 23.74 kpc: 236.51 km/s\n"
          ]
        }
      ]
    },
    {
      "cell_type": "markdown",
      "metadata": {
        "run_control": {
          "frozen": false,
          "read_only": false
        },
        "id": "TVWiU84XOdDA"
      },
      "source": [
        "We expect the velocity to decrease as $1 / \\sqrt{r}$ if all mass is included: the velocity at a radius twice as far as the radius that includes all the mass should be a factor $\\sqrt{2}$ slower, three times as far a factor $\\sqrt{3}$ slower."
      ]
    },
    {
      "cell_type": "markdown",
      "metadata": {
        "id": "b096Ax33SiXl"
      },
      "source": [
        "write a function that\n",
        "\n",
        "1. finds the smallest radius in the dataset that is at least N times the radius of the visible galaxy,\n",
        "\n",
        "2. takes as arguments:\n",
        "    - the data and\n",
        "    - N\n",
        "    - the size of the luminous component of the galaxy\n",
        "\n",
        "2. Returns the value of the radius and its uncertainty and the velocity and its uncertainty"
      ]
    },
    {
      "cell_type": "code",
      "metadata": {
        "ExecuteTime": {
          "end_time": "2019-08-02T02:07:26.053511Z",
          "start_time": "2019-08-02T02:07:26.046677Z"
        },
        "run_control": {
          "frozen": false,
          "read_only": false
        },
        "id": "-_O34Bb7OdC2"
      },
      "source": [
        "def getradii(data, N, luminous_radius):\n",
        "    target_radius = N * luminous_radius\n",
        "    mask = data['Radius'] >= target_radius\n",
        "    if mask.any():\n",
        "        smallest_radius = data.loc[mask, 'Radius'].min()\n",
        "        velocity = data.loc[data['Radius'] == smallest_radius, 'Velocity'].iloc[0]\n",
        "        velocity_uncertainty = data.loc[data['Radius'] == smallest_radius, 'Standard Error'].iloc[0]\n",
        "        radius_uncertainty = 0  # Dataset radii are exact\n",
        "        return smallest_radius, radius_uncertainty, velocity, velocity_uncertainty"
      ],
      "execution_count": 45,
      "outputs": []
    },
    {
      "cell_type": "code",
      "source": [
        "#test\n",
        "for N in [1, 2, 3]:\n",
        "    radius, radius_uncertainty, velocity, velocity_uncertainty = getradii(m31, N, luminous_radius_kpc)\n",
        "    if radius is not None:\n",
        "        print(f\"\\nN = {N}:\")\n",
        "        print(f\"Smallest radius >= {N} * {luminous_radius_kpc:.2f} kpc: {radius:.2f} ± {radius_uncertainty:.2f} kpc\")\n",
        "        print(f\"Velocity at radius {radius:.2f} kpc: {velocity:.2f} ± {velocity_uncertainty:.2f} km/s\")\n",
        "        if N == 1:\n",
        "            base_velocity = velocity\n",
        "        else:\n",
        "            expected_velocity = base_velocity / (N ** 0.5)\n",
        "            print(f\"Expected velocity (Keplerian decline): {expected_velocity:.2f} km/s\")\n",
        "    else:\n",
        "        print(f\"\\nN = {N}: No radius in dataset >= {N * luminous_radius_kpc:.2f} kpc\")"
      ],
      "metadata": {
        "colab": {
          "base_uri": "https://localhost:8080/"
        },
        "id": "Nyc5WGLkEQ6r",
        "outputId": "1b58216c-2911-49c4-a5da-2b015b333336"
      },
      "execution_count": 59,
      "outputs": [
        {
          "output_type": "stream",
          "name": "stdout",
          "text": [
            "\n",
            "N = 1:\n",
            "Smallest radius >= 1 * 23.28 kpc: 23.74 ± 0.00 kpc\n",
            "Velocity at radius 23.74 kpc: 236.51 ± 1.58 km/s\n",
            "\n",
            "N = 2:\n",
            "Smallest radius >= 2 * 23.28 kpc: 49.22 ± 0.00 kpc\n",
            "Velocity at radius 49.22 kpc: 237.07 ± 23.92 km/s\n",
            "Expected velocity (Keplerian decline): 167.24 km/s\n",
            "\n",
            "N = 3:\n",
            "Smallest radius >= 3 * 23.28 kpc: 70.88 ± 0.00 kpc\n",
            "Velocity at radius 70.88 kpc: 218.49 ± 24.66 km/s\n",
            "Expected velocity (Keplerian decline): 136.55 km/s\n"
          ]
        }
      ]
    },
    {
      "cell_type": "markdown",
      "metadata": {
        "ExecuteTime": {
          "end_time": "2019-08-01T18:13:58.231637Z",
          "start_time": "2019-08-01T18:13:58.229447Z"
        },
        "run_control": {
          "frozen": false,
          "read_only": false
        },
        "id": "ogu_iquzOdC5"
      },
      "source": [
        "### data visualization"
      ]
    },
    {
      "cell_type": "markdown",
      "metadata": {
        "id": "kJ6MujVJUyel"
      },
      "source": [
        "make a plot that shows\n",
        "\n",
        "1. the rotational curve of the galaxy (as a line) (e.g. with `df.plot(...)` if your data is stored as a dataframe `df`) showing the uncertainty dv at each quantity (if using `df.plot()` you can use the argument `yerr`)\n",
        "\n",
        "2. each velocity as an errorbar with error equal to `err_tot` in three different colors of your choice (not black)\n",
        "\n",
        "3. each velocity as an errorbar with error equal to `dv` in black\n",
        "\n",
        "4. the datapoint corresponding to N=1, 2, 3 each in a different color.\n",
        "\n",
        "5. add a legend that indicates the meaning of each color (```pl.legend()```)\n",
        "\n",
        "6. add a text that indicates the velocity and its uncertainty (dv and err) just below the largest errorbar (```pl.text()``` or ```ax.text()``` if you have an axis object)\n",
        "\n",
        "7. limit the x axis to the \"relevant\" portion of the data"
      ]
    },
    {
      "cell_type": "code",
      "metadata": {
        "ExecuteTime": {
          "end_time": "2019-08-02T03:01:27.556063Z",
          "start_time": "2019-08-02T03:01:27.302184Z"
        },
        "run_control": {
          "frozen": false,
          "read_only": false
        },
        "id": "7IMXYY8BOdC6",
        "colab": {
          "base_uri": "https://localhost:8080/",
          "height": 619
        },
        "outputId": "69f9f136-fe1f-460c-a893-d836cfdc860d"
      },
      "source": [
        "def plotGal(gal, rds):\n",
        "\n",
        "    fig, ax = plt.subplots(figsize=(10, 6))\n",
        "\n",
        "    gal.plot(x='Radius', y='Velocity', yerr='Standard Error', kind='line', ax=ax, color='blue',\n",
        "             label='Rotation Curve (dv error)', linestyle='-', marker=None)\n",
        "\n",
        "    colors_err_tot = ['red', 'green', 'purple']\n",
        "    for i, color in enumerate(colors_err_tot):\n",
        "        ax.errorbar(gal['Radius'], gal['Velocity'], yerr=gal['Standard Deviation'],\n",
        "                    fmt='none', ecolor=color, alpha=0.5, label=f'err_tot (color {i+1})')\n",
        "\n",
        "    ax.errorbar(gal['Radius'], gal['Velocity'], yerr=gal['Standard Error'],\n",
        "                fmt='none', ecolor='black', alpha=0.7, label='dv error')\n",
        "\n",
        "    colors_n = ['cyan', 'magenta', 'orange']\n",
        "    for i, (radius, _, velocity, velocity_uncertainty) in enumerate(rds):\n",
        "        if radius is not None:\n",
        "            ax.scatter([radius], [velocity], color=colors_n[i], s=100, label=f'N={i+1}', zorder=5)\n",
        "\n",
        "    max_err_idx = gal['Standard Deviation'].idxmax()\n",
        "    max_err_radius = gal.loc[max_err_idx, 'Radius']\n",
        "    max_err_velocity = gal.loc[max_err_idx, 'Velocity']\n",
        "    max_err_tot = gal.loc[max_err_idx, 'Standard Deviation']\n",
        "    max_err_dv = gal.loc[max_err_idx, 'Standard Error']\n",
        "    ax.text(max_err_radius, max_err_velocity - max_err_tot - 10,\n",
        "            f'v={max_err_velocity:.2f} ± dv={max_err_dv:.2f}, err_tot={max_err_tot:.2f} km/s',\n",
        "            fontsize=10, ha='center', va='top', bbox=dict(facecolor='white', alpha=0.8))\n",
        "\n",
        "    ax.set_xlabel('Radius (kpc)')\n",
        "    ax.set_ylabel('Velocity (km/s)')\n",
        "    ax.set_title('Rotation Curve of M31')\n",
        "    ax.set_xlim(0, 100)\n",
        "    ax.legend()\n",
        "\n",
        "    plt.tight_layout()\n",
        "    plt.show()\n",
        "\n",
        "m31 = pd.read_csv('https://raw.githubusercontent.com/fedhere/DSPS_FBianco/master/HW4/m31.csv', skiprows=1)\n",
        "\n",
        "m31 = m31.rename(columns={\n",
        "    '#R(kpc': 'Radius',\n",
        "    'V(km/s)': 'Velocity',\n",
        "    'St.dev.': 'Standard Deviation',\n",
        "    'St.error': 'Standard Error'\n",
        "})\n",
        "\n",
        "\n",
        "luminous_radius = 23.28\n",
        "\n",
        "rds = [getradii(m31, N, luminous_radius) for N in [1, 2, 3]]\n",
        "\n",
        "plotGal(m31, rds)\n"
      ],
      "execution_count": 60,
      "outputs": [
        {
          "output_type": "stream",
          "name": "stderr",
          "text": [
            "/tmp/ipython-input-555927359.py:36: UserWarning: Tight layout not applied. The left and right margins cannot be made large enough to accommodate all Axes decorations.\n",
            "  plt.tight_layout()\n"
          ]
        },
        {
          "output_type": "display_data",
          "data": {
            "text/plain": [
              "<Figure size 1000x600 with 1 Axes>"
            ],
            "image/png": "[encoded data removed]"
          },
          "metadata": {}
        }
      ]
    },
    {
      "cell_type": "markdown",
      "metadata": {
        "id": "bIbv3YrhTo0X"
      },
      "source": [
        "Write a function that for a given dataset and a given luminous radius and a given N\n",
        "  \n",
        "  1) uses the function above ```getradii``` to find the radius at least as large as needed and the velocity at that radius,\n",
        "  \n",
        "  2) states the expected drop in rotational velocities according to Newton's law $v\\propto 1/\\sqrt{r}$\n",
        "  \n",
        "  3) calculates the ratio of radii and the ratio of velocities at N radii from the center N=1 and N=N (input, e.g. 2, 3 etc) with uncertainties,\n",
        "  \n",
        "  4) and stated whether that ratio is consistent within the uncertainties with Newton's law $v \\propto 1/\\sqrt{r}$\n",
        "  \n",
        "Your function should print\n",
        "\n",
        "     - the expected ratio based on the radii,\n",
        "     - the calculated ratio using ```dv```, and its uncertainty, -\n",
        "     - the 2-$\\sigma$ upper and lower limits of the calculated ratio\n",
        "     - whether the expected ratio is within the $2-\\sigma$ of the calculated ratio,\n",
        "  5) and the same using ```err```  instead of ```dv```"
      ]
    },
    {
      "cell_type": "code",
      "metadata": {
        "ExecuteTime": {
          "end_time": "2019-08-02T02:22:18.485172Z",
          "start_time": "2019-08-02T02:22:18.477807Z"
        },
        "run_control": {
          "frozen": false,
          "read_only": false
        },
        "id": "1hhTw8N4OdDB"
      },
      "source": [
        "def vratios(data, m31Rds, N, err='dv'):\n",
        "\n",
        "    r1, _, v1, dv1 = m31Rds[0] if m31Rds and len(m31Rds) >= 1 else (None, None, None, None)\n",
        "    if r1 is None:\n",
        "        print(\"No radius found for N=1 in m31Rds\")\n",
        "        return\n",
        "\n",
        "    if N <= len(m31Rds):\n",
        "        rn, _, vn, dvn = m31Rds[int(N)-1]\n",
        "    else:\n",
        "        rn, _, vn, dvn = getradii(data, N, luminous_radius)\n",
        "    if rn is None:\n",
        "        print(f\"No radius found for N={N}\")\n",
        "        return\n",
        "\n",
        "    print(f\"Debug: r1={r1:.2f}, v1={v1:.2f}, dv1={dv1:.2f}, rn={rn:.2f}, vn={vn:.2f}, dvn={dvn:.2f}\")\n",
        "\n",
        "\n",
        "    err1 = data.loc[data['Radius'] == r1, 'Standard Deviation'].iloc[0]\n",
        "    errn = data.loc[data['Radius'] == rn, 'Standard Deviation'].iloc[0]\n",
        "    print(f\"Debug: err1={err1:.2f}, errn={errn:.2f}\")\n",
        "\n",
        "    ratio_r = rn / r1\n",
        "    expected_ratio_v = 1.0 if N == 1 else 1 / (ratio_r ** 0.5)\n",
        "    print(f\"Expected ratio based on the radii: {expected_ratio_v:.4f}\")\n",
        "\n",
        "    ratio_v = vn / v1\n",
        "\n",
        "    if err == 'dv':\n",
        "        sigma_ratio_v = ratio_v * ((dvn / vn)**2 + (dv1 / v1)**2)**0.5\n",
        "        error_label = 'dv'\n",
        "        error_value = dvn\n",
        "    elif err == 'err':\n",
        "        sigma_ratio_v = ratio_v * ((errn / vn)**2 + (err1 / v1)**2)**0.5\n",
        "        error_label = 'err'\n",
        "        error_value = errn\n",
        "    else:\n",
        "        print(f\"Invalid err parameter: {err}. Use 'dv' or 'err'.\")\n",
        "        return\n",
        "\n",
        "    lower_2sigma = ratio_v - 2 * sigma_ratio_v\n",
        "    upper_2sigma = ratio_v + 2 * sigma_ratio_v\n",
        "    is_consistent = lower_2sigma <= expected_ratio_v <= upper_2sigma\n",
        "\n",
        "    print(f\"Calculated ratio using {error_label}: {ratio_v:.4f}\")\n",
        "    print(f\"Uncertainty in calculated ratio using {error_label}: {sigma_ratio_v:.4f}\")\n",
        "    print(f\"2-sigma lower limit ({error_label}): {lower_2sigma:.4f}\")\n",
        "    print(f\"2-sigma upper limit ({error_label}): {upper_2sigma:.4f}\")\n",
        "    print(f\"Is expected ratio within 2-sigma of calculated ratio ({error_label}): {is_consistent}\")\n",
        "\n",
        "try:\n",
        "    m31 = pd.read_csv('https://raw.githubusercontent.com/fedhere/DSPS_FBianco/master/HW4/m31.csv', skiprows=1)\n",
        "except Exception as e:\n",
        "    print(f\"Error loading dataset: {e}\")\n",
        "    exit()\n",
        "\n",
        "m31 = m31.rename(columns={\n",
        "    '#R(kpc': 'Radius',\n",
        "    'V(km/s)': 'Velocity',\n",
        "    'St.dev.': 'Standard Deviation',\n",
        "    'St.error': 'Standard Error'\n",
        "})\n",
        "\n",
        "luminous_radius = 23.28\n"
      ],
      "execution_count": 71,
      "outputs": []
    },
    {
      "cell_type": "code",
      "metadata": {
        "ExecuteTime": {
          "end_time": "2019-08-02T02:22:20.233692Z",
          "start_time": "2019-08-02T02:22:20.225631Z"
        },
        "run_control": {
          "frozen": false,
          "read_only": false
        },
        "id": "8TPkTIthOdDI",
        "colab": {
          "base_uri": "https://localhost:8080/"
        },
        "outputId": "b81e7dfe-fd5d-4f80-a28e-57c7dcbcc4fb"
      },
      "source": [
        "vratios(m31, m31Rds, 1)\n",
        "\n",
        "vratios(m31, m31Rds, 1, err='err')"
      ],
      "execution_count": 72,
      "outputs": [
        {
          "output_type": "stream",
          "name": "stdout",
          "text": [
            "Debug: r1=23.74, v1=236.51, dv1=1.58, rn=23.74, vn=236.51, dvn=1.58\n",
            "Debug: err1=11.73, errn=11.73\n",
            "Expected ratio based on the radii: 1.0000\n",
            "Calculated ratio using dv: 1.0000\n",
            "Uncertainty in calculated ratio using dv: 0.0094\n",
            "2-sigma lower limit (dv): 0.9811\n",
            "2-sigma upper limit (dv): 1.0189\n",
            "Is expected ratio within 2-sigma of calculated ratio (dv): True\n",
            "Debug: r1=23.74, v1=236.51, dv1=1.58, rn=23.74, vn=236.51, dvn=1.58\n",
            "Debug: err1=11.73, errn=11.73\n",
            "Expected ratio based on the radii: 1.0000\n",
            "Calculated ratio using err: 1.0000\n",
            "Uncertainty in calculated ratio using err: 0.0701\n",
            "2-sigma lower limit (err): 0.8597\n",
            "2-sigma upper limit (err): 1.1403\n",
            "Is expected ratio within 2-sigma of calculated ratio (err): True\n"
          ]
        }
      ]
    },
    {
      "cell_type": "code",
      "metadata": {
        "ExecuteTime": {
          "end_time": "2019-08-02T02:22:26.272266Z",
          "start_time": "2019-08-02T02:22:26.263760Z"
        },
        "run_control": {
          "frozen": false,
          "read_only": false
        },
        "id": "XeQoBcM7OdDP",
        "colab": {
          "base_uri": "https://localhost:8080/"
        },
        "outputId": "dbd6c2ff-be5e-49c3-df88-4eb27e27131c"
      },
      "source": [
        "vratios(m31, m31Rds, 2)"
      ],
      "execution_count": 73,
      "outputs": [
        {
          "output_type": "stream",
          "name": "stdout",
          "text": [
            "Debug: r1=23.74, v1=236.51, dv1=1.58, rn=49.22, vn=237.07, dvn=23.92\n",
            "Debug: err1=11.73, errn=109.38\n",
            "Expected ratio based on the radii: 0.6945\n",
            "Calculated ratio using dv: 1.0024\n",
            "Uncertainty in calculated ratio using dv: 0.1014\n",
            "2-sigma lower limit (dv): 0.7996\n",
            "2-sigma upper limit (dv): 1.2051\n",
            "Is expected ratio within 2-sigma of calculated ratio (dv): False\n"
          ]
        }
      ]
    },
    {
      "cell_type": "code",
      "metadata": {
        "ExecuteTime": {
          "end_time": "2019-08-02T02:24:18.604569Z",
          "start_time": "2019-08-02T02:24:18.596278Z"
        },
        "run_control": {
          "frozen": false,
          "read_only": false
        },
        "id": "Stigi9P_OdDW",
        "colab": {
          "base_uri": "https://localhost:8080/"
        },
        "outputId": "c31bf11c-7d05-4caa-8ad0-378b39b4363c"
      },
      "source": [
        "vratios(m31, m31Rds, 2, err='err')"
      ],
      "execution_count": 74,
      "outputs": [
        {
          "output_type": "stream",
          "name": "stdout",
          "text": [
            "Debug: r1=23.74, v1=236.51, dv1=1.58, rn=49.22, vn=237.07, dvn=23.92\n",
            "Debug: err1=11.73, errn=109.38\n",
            "Expected ratio based on the radii: 0.6945\n",
            "Calculated ratio using err: 1.0024\n",
            "Uncertainty in calculated ratio using err: 0.4651\n",
            "2-sigma lower limit (err): 0.0721\n",
            "2-sigma upper limit (err): 1.9326\n",
            "Is expected ratio within 2-sigma of calculated ratio (err): True\n"
          ]
        }
      ]
    },
    {
      "cell_type": "markdown",
      "metadata": {
        "ExecuteTime": {
          "end_time": "2019-08-02T00:36:41.637045Z",
          "start_time": "2019-08-02T00:36:41.634825Z"
        },
        "run_control": {
          "frozen": false,
          "read_only": false
        },
        "id": "6me5k4c1OdDY"
      },
      "source": [
        "### Discuss!\n",
        "\n",
        "Looking at my results, the velocity ratio ($ v_N/v_1 = 1.0000 $) matches the expected ratio (1.0000) exactly, as expected since the radius and velocity are the same, with both dv (Standard Error) and err (Standard Deviation) confirming consistency within 2-sigma limits. For $ N=2 $, the expected velocity ratio based on Keplerian decline ($ v \\propto 1/\\sqrt{r} $) is 0.6945, but the actual ratio is 1.0024, indicating a nearly flat rotation curve. The dv uncertainty (0.1014) results in a 2-sigma range (0.7996–1.2051) that excludes the expected ratio, suggesting inconsistency with Newton’s law (maybe due to dark matter?). However, the larger err uncertainty (0.4651) gives a broader 2-sigma range (0.0721–1.9326), which includes the expected ratio, making it appear consistent despite the flat rotation curve. This discrepancy highlights that Standard Deviation (err) overestimates the uncertainty compared to Standard Error (dv)\n",
        "\n",
        "*Note:* In terms of mathematical equations, I use the small angle approximation:   $y = r * sin(\\alpha) ~ \\sim ~ r \\alpha $ to assist me in deriving: $v^2 \\propto\\frac{1}{r}$ .  "
      ]
    },
    {
      "cell_type": "markdown",
      "metadata": {
        "run_control": {
          "frozen": false,
          "read_only": false
        },
        "id": "QIHRn8UlOdDZ"
      },
      "source": [
        "## do the same for the Milky Way. If your functions were create properly you should be able to reuse them seamlessly"
      ]
    },
    {
      "cell_type": "code",
      "metadata": {
        "id": "NVp9cJzv-Dic"
      },
      "source": [
        "#delete all below"
      ],
      "execution_count": null,
      "outputs": []
    },
    {
      "cell_type": "markdown",
      "metadata": {
        "run_control": {
          "frozen": false,
          "read_only": false
        },
        "id": "oxQofaCKOdDg"
      },
      "source": [
        "https://en.wikipedia.org/wiki/Milky_Way\n",
        "    "
      ]
    }
  ]
}